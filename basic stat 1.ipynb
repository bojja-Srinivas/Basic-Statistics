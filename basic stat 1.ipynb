{
 "cells": [
  {
   "cell_type": "code",
   "execution_count": 8,
   "id": "ab6786b2-7caa-4d96-929f-9f42129453d1",
   "metadata": {},
   "outputs": [
    {
     "name": "stdout",
     "output_type": "stream",
     "text": [
      "           Date       Day  SKU City  Volume         BU  Brand       Model  \\\n",
      "0    01-04-2021  Thursday  M01    C      15    Mobiles  RealU       RU-10   \n",
      "1    01-04-2021  Thursday  M02    C      10    Mobiles  RealU   RU-9 Plus   \n",
      "2    01-04-2021  Thursday  M03    C       7    Mobiles   YouM       YM-99   \n",
      "3    01-04-2021  Thursday  M04    C       6    Mobiles   YouM  YM-99 Plus   \n",
      "4    01-04-2021  Thursday  M05    C       3    Mobiles   YouM      YM-98    \n",
      "..          ...       ...  ...  ...     ...        ...    ...         ...   \n",
      "445  15-04-2021  Thursday  L06    C       2  Lifestyle  Jeera   M-Casuals   \n",
      "446  15-04-2021  Thursday  L07    C       6  Lifestyle   Viva   W-Western   \n",
      "447  15-04-2021  Thursday  L08    C       2  Lifestyle   Viva    W-Lounge   \n",
      "448  15-04-2021  Thursday  L09    C       3  Lifestyle  Jeera   M-Formals   \n",
      "449  15-04-2021  Thursday  L10    C       1  Lifestyle  Jeera     M-Shoes   \n",
      "\n",
      "     Avg Price  Total Sales Value  Discount Rate (%)  Discount Amount  \\\n",
      "0        12100             181500          11.654820     21153.498820   \n",
      "1        10100             101000          11.560498     11676.102961   \n",
      "2        16100             112700           9.456886     10657.910157   \n",
      "3        20100             120600           6.935385      8364.074702   \n",
      "4         8100              24300          17.995663      4372.946230   \n",
      "..         ...                ...                ...              ...   \n",
      "445       1300               2600          15.475687       402.367873   \n",
      "446       2600              15600          17.057027      2660.896242   \n",
      "447       1600               3200          18.965550       606.897606   \n",
      "448       1900               5700          16.793014       957.201826   \n",
      "449       3100               3100          15.333300       475.332295   \n",
      "\n",
      "     Net Sales Value  \n",
      "0      160346.501180  \n",
      "1       89323.897039  \n",
      "2      102042.089843  \n",
      "3      112235.925298  \n",
      "4       19927.053770  \n",
      "..               ...  \n",
      "445      2197.632127  \n",
      "446     12939.103758  \n",
      "447      2593.102394  \n",
      "448      4742.798174  \n",
      "449      2624.667705  \n",
      "\n",
      "[450 rows x 13 columns]\n"
     ]
    }
   ],
   "source": [
    "import pandas as pd\n",
    "df=pd.read_csv(\"Desktop/excelr/Basic stats - 1/sales_data_with_discounts.csv\")\n",
    "print(df)"
   ]
  },
  {
   "cell_type": "code",
   "execution_count": 9,
   "id": "846e231b-1624-4312-baff-e73ca63acd67",
   "metadata": {},
   "outputs": [
    {
     "name": "stdout",
     "output_type": "stream",
     "text": [
      "<class 'pandas.core.frame.DataFrame'>\n",
      "RangeIndex: 450 entries, 0 to 449\n",
      "Data columns (total 13 columns):\n",
      " #   Column             Non-Null Count  Dtype  \n",
      "---  ------             --------------  -----  \n",
      " 0   Date               450 non-null    object \n",
      " 1   Day                450 non-null    object \n",
      " 2   SKU                450 non-null    object \n",
      " 3   City               450 non-null    object \n",
      " 4   Volume             450 non-null    int64  \n",
      " 5   BU                 450 non-null    object \n",
      " 6   Brand              450 non-null    object \n",
      " 7   Model              450 non-null    object \n",
      " 8   Avg Price          450 non-null    int64  \n",
      " 9   Total Sales Value  450 non-null    int64  \n",
      " 10  Discount Rate (%)  450 non-null    float64\n",
      " 11  Discount Amount    450 non-null    float64\n",
      " 12  Net Sales Value    450 non-null    float64\n",
      "dtypes: float64(3), int64(3), object(7)\n",
      "memory usage: 45.8+ KB\n"
     ]
    }
   ],
   "source": [
    "df.info()"
   ]
  },
  {
   "cell_type": "code",
   "execution_count": 10,
   "id": "263b2f90-af6e-47d4-b633-bd3f3751e89f",
   "metadata": {},
   "outputs": [
    {
     "data": {
      "text/html": [
       "<div>\n",
       "<style scoped>\n",
       "    .dataframe tbody tr th:only-of-type {\n",
       "        vertical-align: middle;\n",
       "    }\n",
       "\n",
       "    .dataframe tbody tr th {\n",
       "        vertical-align: top;\n",
       "    }\n",
       "\n",
       "    .dataframe thead th {\n",
       "        text-align: right;\n",
       "    }\n",
       "</style>\n",
       "<table border=\"1\" class=\"dataframe\">\n",
       "  <thead>\n",
       "    <tr style=\"text-align: right;\">\n",
       "      <th></th>\n",
       "      <th>Volume</th>\n",
       "      <th>Avg Price</th>\n",
       "      <th>Total Sales Value</th>\n",
       "      <th>Discount Rate (%)</th>\n",
       "      <th>Discount Amount</th>\n",
       "      <th>Net Sales Value</th>\n",
       "    </tr>\n",
       "  </thead>\n",
       "  <tbody>\n",
       "    <tr>\n",
       "      <th>count</th>\n",
       "      <td>450.000000</td>\n",
       "      <td>450.000000</td>\n",
       "      <td>450.000000</td>\n",
       "      <td>450.000000</td>\n",
       "      <td>450.000000</td>\n",
       "      <td>450.000000</td>\n",
       "    </tr>\n",
       "    <tr>\n",
       "      <th>mean</th>\n",
       "      <td>5.066667</td>\n",
       "      <td>10453.433333</td>\n",
       "      <td>33812.835556</td>\n",
       "      <td>15.155242</td>\n",
       "      <td>3346.499424</td>\n",
       "      <td>30466.336131</td>\n",
       "    </tr>\n",
       "    <tr>\n",
       "      <th>std</th>\n",
       "      <td>4.231602</td>\n",
       "      <td>18079.904840</td>\n",
       "      <td>50535.074173</td>\n",
       "      <td>4.220602</td>\n",
       "      <td>4509.902963</td>\n",
       "      <td>46358.656624</td>\n",
       "    </tr>\n",
       "    <tr>\n",
       "      <th>min</th>\n",
       "      <td>1.000000</td>\n",
       "      <td>290.000000</td>\n",
       "      <td>400.000000</td>\n",
       "      <td>5.007822</td>\n",
       "      <td>69.177942</td>\n",
       "      <td>326.974801</td>\n",
       "    </tr>\n",
       "    <tr>\n",
       "      <th>25%</th>\n",
       "      <td>3.000000</td>\n",
       "      <td>465.000000</td>\n",
       "      <td>2700.000000</td>\n",
       "      <td>13.965063</td>\n",
       "      <td>460.459304</td>\n",
       "      <td>2202.208645</td>\n",
       "    </tr>\n",
       "    <tr>\n",
       "      <th>50%</th>\n",
       "      <td>4.000000</td>\n",
       "      <td>1450.000000</td>\n",
       "      <td>5700.000000</td>\n",
       "      <td>16.577766</td>\n",
       "      <td>988.933733</td>\n",
       "      <td>4677.788059</td>\n",
       "    </tr>\n",
       "    <tr>\n",
       "      <th>75%</th>\n",
       "      <td>6.000000</td>\n",
       "      <td>10100.000000</td>\n",
       "      <td>53200.000000</td>\n",
       "      <td>18.114718</td>\n",
       "      <td>5316.495427</td>\n",
       "      <td>47847.912852</td>\n",
       "    </tr>\n",
       "    <tr>\n",
       "      <th>max</th>\n",
       "      <td>31.000000</td>\n",
       "      <td>60100.000000</td>\n",
       "      <td>196400.000000</td>\n",
       "      <td>19.992407</td>\n",
       "      <td>25738.022194</td>\n",
       "      <td>179507.479049</td>\n",
       "    </tr>\n",
       "  </tbody>\n",
       "</table>\n",
       "</div>"
      ],
      "text/plain": [
       "           Volume     Avg Price  Total Sales Value  Discount Rate (%)  \\\n",
       "count  450.000000    450.000000         450.000000         450.000000   \n",
       "mean     5.066667  10453.433333       33812.835556          15.155242   \n",
       "std      4.231602  18079.904840       50535.074173           4.220602   \n",
       "min      1.000000    290.000000         400.000000           5.007822   \n",
       "25%      3.000000    465.000000        2700.000000          13.965063   \n",
       "50%      4.000000   1450.000000        5700.000000          16.577766   \n",
       "75%      6.000000  10100.000000       53200.000000          18.114718   \n",
       "max     31.000000  60100.000000      196400.000000          19.992407   \n",
       "\n",
       "       Discount Amount  Net Sales Value  \n",
       "count       450.000000       450.000000  \n",
       "mean       3346.499424     30466.336131  \n",
       "std        4509.902963     46358.656624  \n",
       "min          69.177942       326.974801  \n",
       "25%         460.459304      2202.208645  \n",
       "50%         988.933733      4677.788059  \n",
       "75%        5316.495427     47847.912852  \n",
       "max       25738.022194    179507.479049  "
      ]
     },
     "execution_count": 10,
     "metadata": {},
     "output_type": "execute_result"
    }
   ],
   "source": [
    "df.describe()"
   ]
  },
  {
   "cell_type": "code",
   "execution_count": 11,
   "id": "2683d543-4bbe-418e-9d07-b4ea77ddfef8",
   "metadata": {},
   "outputs": [],
   "source": [
    "from matplotlib import pyplot as plt"
   ]
  },
  {
   "cell_type": "code",
   "execution_count": 12,
   "id": "61f6c003-cc17-42f0-8a85-d4d17e24a656",
   "metadata": {},
   "outputs": [
    {
     "data": {
      "text/plain": [
       "0    01-04-2021\n",
       "1    01-04-2021\n",
       "2    01-04-2021\n",
       "3    01-04-2021\n",
       "4    01-04-2021\n",
       "Name: Date, dtype: object"
      ]
     },
     "execution_count": 12,
     "metadata": {},
     "output_type": "execute_result"
    }
   ],
   "source": [
    "df.iloc[0:5,0]"
   ]
  },
  {
   "cell_type": "code",
   "execution_count": 13,
   "id": "3817a04a-f16e-4b63-a1b7-fbc89632269b",
   "metadata": {},
   "outputs": [
    {
     "name": "stdout",
     "output_type": "stream",
     "text": [
      "2.731723626557714\n",
      "10.258547145181762\n"
     ]
    }
   ],
   "source": [
    "print(df.Volume.skew())\n",
    "print(df.Volume.kurt())"
   ]
  },
  {
   "cell_type": "code",
   "execution_count": 14,
   "id": "690fd111-8b28-4d54-9971-5599f5d959e7",
   "metadata": {},
   "outputs": [
    {
     "data": {
      "image/png": "[encoded data removed]",
      "text/plain": [
       "<Figure size 640x480 with 6 Axes>"
      ]
     },
     "metadata": {},
     "output_type": "display_data"
    }
   ],
   "source": [
    "fig,ax=plt.subplots(nrows=3,ncols=2)\n",
    "ax[0,0].hist(df[\"Volume\"])\n",
    "ax[0,0].set_title(\"plot 1\")\n",
    "ax[0,1].hist(df[\"Avg Price\"])\n",
    "ax[0,1].set_title(\"plot 2\")\n",
    "ax[1,0].hist(df[\"Total Sales Value\"])\n",
    "ax[1,0].set_title(\"plot 3\")\n",
    "ax[1,1].hist(df[\"Discount Rate (%)\"])\n",
    "ax[1,1].set_title(\"plot 4\")\n",
    "ax[2,0].hist(df[\"Discount Amount\"])\n",
    "ax[2,0].set_title(\"plot 5\")\n",
    "ax[2,1].hist(df[\"Net Sales Value\"])\n",
    "ax[2,1].set_title(\"plot 6\")\n",
    "plt.tight_layout()"
   ]
  },
  {
   "cell_type": "code",
   "execution_count": 15,
   "id": "4b0b1af0-8ce9-4859-8382-a45cd7cbdd59",
   "metadata": {},
   "outputs": [
    {
     "data": {
      "image/png": "[encoded data removed]",
      "text/plain": [
       "<Figure size 640x480 with 6 Axes>"
      ]
     },
     "metadata": {},
     "output_type": "display_data"
    }
   ],
   "source": [
    "fig,ax=plt.subplots(nrows=3,ncols=2)\n",
    "ax[0,0].boxplot(df[\"Volume\"])\n",
    "ax[0,0].set_title(\"plot 1\")\n",
    "ax[0,1].boxplot(df[\"Avg Price\"])\n",
    "ax[0,1].set_title(\"plot 2\")\n",
    "ax[1,0].boxplot(df[\"Total Sales Value\"])\n",
    "ax[1,0].set_title(\"plot 3\")\n",
    "ax[1,1].boxplot(df[\"Discount Rate (%)\"])\n",
    "ax[1,1].set_title(\"plot 4\")\n",
    "ax[2,0].boxplot(df[\"Discount Amount\"])\n",
    "ax[2,0].set_title(\"plot 5\")\n",
    "ax[2,1].boxplot(df[\"Net Sales Value\"])\n",
    "ax[2,1].set_title(\"plot 6\")\n",
    "plt.tight_layout()"
   ]
  },
  {
   "cell_type": "code",
   "execution_count": null,
   "id": "fbb8a817-107d-44a1-93ef-0e34ea1b3095",
   "metadata": {},
   "outputs": [],
   "source": []
  }
 ],
 "metadata": {
  "kernelspec": {
   "display_name": "Python 3 (ipykernel)",
   "language": "python",
   "name": "python3"
  },
  "language_info": {
   "codemirror_mode": {
    "name": "ipython",
    "version": 3
   },
   "file_extension": ".py",
   "mimetype": "text/x-python",
   "name": "python",
   "nbconvert_exporter": "python",
   "pygments_lexer": "ipython3",
   "version": "3.12.4"
  }
 },
 "nbformat": 4,
 "nbformat_minor": 5
}
